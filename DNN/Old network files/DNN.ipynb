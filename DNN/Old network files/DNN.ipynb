{
 "cells": [
  {
   "cell_type": "code",
   "execution_count": 48,
   "metadata": {},
   "outputs": [],
   "source": [
    "import tensorflow as tf\n",
    "import numpy as np\n",
    "import pandas as pd\n",
    "from keras.utils import to_categorical\n",
    "from keras.models import Sequential\n",
    "from keras.layers import LSTM,Dense,Dropout\n",
    "from sklearn.preprocessing import MinMaxScaler\n",
    "import matplotlib.pyplot as plt\n",
    "from hyperopt import Trials, STATUS_OK, tpe\n",
    "from hyperas import optim\n",
    "from hyperas.distributions import choice, uniform"
   ]
  },
  {
   "cell_type": "code",
   "execution_count": 49,
   "metadata": {},
   "outputs": [
    {
     "name": "stdout",
     "output_type": "stream",
     "text": [
      "(7000, 6) (70, 1) (3500, 6) (35, 1)\n"
     ]
    }
   ],
   "source": [
    "#Lecture des fichiers input (X_train et X_test) et output (y_train et y_train)\n",
    "X_train = pd.read_csv(\"X_train.txt\",header=None)\n",
    "y_train = pd.read_csv(\"y_train.txt\",header=None)\n",
    "X_test = pd.read_csv(\"X_test.txt\",header=None)\n",
    "y_test = pd.read_csv(\"y_test.txt\",header=None)\n",
    "print(X_train.shape,y_train.shape,X_test.shape,y_test.shape)"
   ]
  },
  {
   "cell_type": "code",
   "execution_count": 50,
   "metadata": {},
   "outputs": [
    {
     "name": "stdout",
     "output_type": "stream",
     "text": [
      "(7000, 6) (70, 1) (3500, 6) (35, 1)\n"
     ]
    }
   ],
   "source": [
    "x_train = np.array(X_train)\n",
    "ytrain = np.array(y_train)\n",
    "x_test = np.array(X_test)\n",
    "ytest = np.array(y_test)\n",
    "print(x_train.shape,ytrain.shape,x_test.shape,ytest.shape)"
   ]
  },
  {
   "cell_type": "code",
   "execution_count": 51,
   "metadata": {},
   "outputs": [
    {
     "name": "stdout",
     "output_type": "stream",
     "text": [
      "(70, 100, 6) (70, 7) (35, 100, 6) (35, 7)\n"
     ]
    }
   ],
   "source": [
    "x_train = x_train.reshape((70, 100,6))\n",
    "ytrain = to_categorical(ytrain)\n",
    "x_test = x_test.reshape(35,100,6)\n",
    "ytest = to_categorical(ytest)\n",
    "print(x_train.shape,ytrain.shape,x_test.shape,ytest.shape)"
   ]
  },
  {
   "cell_type": "code",
   "execution_count": 54,
   "metadata": {},
   "outputs": [],
   "source": [
    "model = Sequential()\n",
    "\n",
    "model.add(LSTM(units=20, return_sequences = True, input_shape =(x_train.shape[1],6)))\n",
    "model.add(Dropout(0.143258))\n",
    "model.add(LSTM(units=80))\n",
    "model.add(Dropout(0.25254))\n",
    "model.add(Dense(50,activation='relu'))\n",
    "model.add(Dropout(0.69785))a\n",
    "model.add(Dense(ytrain.shape[1],activation='softmax'))\n",
    "adam = keras.optimizers.Adam(lr=10**-3,clipnorm =1.)\n",
    "\n",
    "model.compile(loss='categorical_crossentropy', optimizer=adam, metrics=['accuracy'])      "
   ]
  },
  {
   "cell_type": "code",
   "execution_count": 55,
   "metadata": {},
   "outputs": [
    {
     "name": "stdout",
     "output_type": "stream",
     "text": [
      "Epoch 1/20\n",
      "70/70 [==============================] - 8s 113ms/step - loss: 1.9378 - acc: 0.1714\n",
      "Epoch 2/20\n",
      "70/70 [==============================] - 1s 17ms/step - loss: 1.8157 - acc: 0.2571\n",
      "Epoch 3/20\n",
      "70/70 [==============================] - 1s 17ms/step - loss: 1.7224 - acc: 0.3429\n",
      "Epoch 4/20\n",
      "70/70 [==============================] - 1s 17ms/step - loss: 1.5612 - acc: 0.4000\n",
      "Epoch 5/20\n",
      "70/70 [==============================] - 1s 17ms/step - loss: 1.3927 - acc: 0.5429\n",
      "Epoch 6/20\n",
      "70/70 [==============================] - 1s 17ms/step - loss: 1.2112 - acc: 0.6286\n",
      "Epoch 7/20\n",
      "70/70 [==============================] - 1s 17ms/step - loss: 1.0168 - acc: 0.7143\n",
      "Epoch 8/20\n",
      "70/70 [==============================] - 1s 17ms/step - loss: 0.9463 - acc: 0.6429\n",
      "Epoch 9/20\n",
      "70/70 [==============================] - 1s 17ms/step - loss: 0.6711 - acc: 0.7857\n",
      "Epoch 10/20\n",
      "70/70 [==============================] - 1s 17ms/step - loss: 0.6716 - acc: 0.8143\n",
      "Epoch 11/20\n",
      "70/70 [==============================] - 1s 17ms/step - loss: 0.5370 - acc: 0.8429\n",
      "Epoch 12/20\n",
      "70/70 [==============================] - 1s 17ms/step - loss: 0.4229 - acc: 0.8857\n",
      "Epoch 13/20\n",
      "70/70 [==============================] - 1s 17ms/step - loss: 0.4191 - acc: 0.8857\n",
      "Epoch 14/20\n",
      "70/70 [==============================] - 1s 17ms/step - loss: 0.4685 - acc: 0.8429\n",
      "Epoch 15/20\n",
      "70/70 [==============================] - 1s 17ms/step - loss: 0.3849 - acc: 0.8286\n",
      "Epoch 16/20\n",
      "70/70 [==============================] - 1s 18ms/step - loss: 0.4549 - acc: 0.8857\n",
      "Epoch 17/20\n",
      "70/70 [==============================] - 1s 16ms/step - loss: 0.3641 - acc: 0.8571\n",
      "Epoch 18/20\n",
      "70/70 [==============================] - 1s 18ms/step - loss: 0.2363 - acc: 0.9000\n",
      "Epoch 19/20\n",
      "70/70 [==============================] - 1s 18ms/step - loss: 0.2622 - acc: 0.9286\n",
      "Epoch 20/20\n",
      "70/70 [==============================] - 1s 17ms/step - loss: 0.3009 - acc: 0.8571\n"
     ]
    },
    {
     "data": {
      "text/plain": [
       "<keras.callbacks.History at 0x22d7dbff550>"
      ]
     },
     "execution_count": 55,
     "metadata": {},
     "output_type": "execute_result"
    }
   ],
   "source": [
    "epochs = 20\n",
    "batch_size = 7\n",
    "model.fit(x_train,ytrain,epochs=epochs,batch_size=batch_size)"
   ]
  },
  {
   "cell_type": "code",
   "execution_count": 56,
   "metadata": {},
   "outputs": [
    {
     "name": "stdout",
     "output_type": "stream",
     "text": [
      "35/35 [==============================] - 2s 53ms/step\n"
     ]
    },
    {
     "data": {
      "text/plain": [
       "[0.1677263698540628, 0.9714285731315613]"
      ]
     },
     "execution_count": 56,
     "metadata": {},
     "output_type": "execute_result"
    }
   ],
   "source": [
    "model.evaluate(x_test,ytest,batch_size=batch_size)"
   ]
  },
  {
   "cell_type": "code",
   "execution_count": null,
   "metadata": {},
   "outputs": [],
   "source": []
  },
  {
   "cell_type": "code",
   "execution_count": null,
   "metadata": {},
   "outputs": [],
   "source": []
  }
 ],
 "metadata": {
  "kernelspec": {
   "display_name": "Python 3",
   "language": "python",
   "name": "python3"
  },
  "language_info": {
   "codemirror_mode": {
    "name": "ipython",
    "version": 3
   },
   "file_extension": ".py",
   "mimetype": "text/x-python",
   "name": "python",
   "nbconvert_exporter": "python",
   "pygments_lexer": "ipython3",
   "version": "3.7.1"
  }
 },
 "nbformat": 4,
 "nbformat_minor": 2
}
