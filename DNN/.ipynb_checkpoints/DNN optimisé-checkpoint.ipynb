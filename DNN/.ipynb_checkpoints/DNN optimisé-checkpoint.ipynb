{
 "cells": [
  {
   "cell_type": "code",
   "execution_count": 1,
   "metadata": {},
   "outputs": [
    {
     "name": "stderr",
     "output_type": "stream",
     "text": [
      "Using TensorFlow backend.\n"
     ]
    }
   ],
   "source": [
    "import tensorflow as tf\n",
    "import numpy as np\n",
    "import pandas as pd\n",
    "from keras.utils import to_categorical\n",
    "from keras.models import Sequential\n",
    "from keras.layers import LSTM,Dense,Dropout\n",
    "from sklearn.preprocessing import MinMaxScaler\n",
    "import matplotlib.pyplot as plt"
   ]
  },
  {
   "cell_type": "code",
   "execution_count": 2,
   "metadata": {},
   "outputs": [
    {
     "name": "stdout",
     "output_type": "stream",
     "text": [
      "(7000, 6) (70, 1) (3500, 6) (35, 1)\n"
     ]
    }
   ],
   "source": [
    "#Lecture des fichiers input (X_train et X_test) et output (y_train et y_train)\n",
    "X_train = pd.read_csv(\"X_train.txt\",header=None)\n",
    "y_train = pd.read_csv(\"y_train.txt\",header=None)\n",
    "X_test = pd.read_csv(\"X_test.txt\",header=None)\n",
    "y_test = pd.read_csv(\"y_test.txt\",header=None)\n",
    "print(X_train.shape,y_train.shape,X_test.shape,y_test.shape)"
   ]
  },
  {
   "cell_type": "code",
   "execution_count": 3,
   "metadata": {},
   "outputs": [
    {
     "name": "stdout",
     "output_type": "stream",
     "text": [
      "(7000, 6) (70, 1) (3500, 6) (35, 1)\n"
     ]
    }
   ],
   "source": [
    "x_train = np.array(X_train)\n",
    "ytrain = np.array(y_train)\n",
    "x_test = np.array(X_test)\n",
    "ytest = np.array(y_test)\n",
    "print(x_train.shape,ytrain.shape,x_test.shape,ytest.shape)"
   ]
  },
  {
   "cell_type": "code",
   "execution_count": 4,
   "metadata": {},
   "outputs": [
    {
     "name": "stdout",
     "output_type": "stream",
     "text": [
      "(70, 100, 6) (70, 7) (35, 100, 6) (35, 7)\n"
     ]
    }
   ],
   "source": [
    "x_train = x_train.reshape((70, 100,6))\n",
    "ytrain = to_categorical(ytrain)\n",
    "x_test = x_test.reshape(35,100,6)\n",
    "ytest = to_categorical(ytest)\n",
    "print(x_train.shape,ytrain.shape,x_test.shape,ytest.shape)"
   ]
  },
  {
   "cell_type": "code",
   "execution_count": 11,
   "metadata": {},
   "outputs": [],
   "source": [
    "model = Sequential()\n",
    "\n",
    "model.add(LSTM(units=100, return_sequences = True, input_shape =(x_train.shape[1],6)))\n",
    "model.add(Dropout(0.761))\n",
    "model.add(LSTM(units=100))\n",
    "model.add(Dropout(0.36))\n",
    "\n",
    "model.add(Dense(ytrain.shape[1],activation='softmax'))\n",
    "\n",
    "model.compile(loss='categorical_crossentropy', optimizer='adam', metrics=['accuracy'])      "
   ]
  },
  {
   "cell_type": "code",
   "execution_count": 12,
   "metadata": {},
   "outputs": [
    {
     "name": "stdout",
     "output_type": "stream",
     "text": [
      "Epoch 1/5\n",
      "70/70 [==============================] - 2s 30ms/step - loss: 1.7972 - acc: 0.3000\n",
      "Epoch 2/5\n",
      "70/70 [==============================] - 1s 9ms/step - loss: 1.2538 - acc: 0.7571\n",
      "Epoch 3/5\n",
      "70/70 [==============================] - 1s 9ms/step - loss: 0.7541 - acc: 0.9714\n",
      "Epoch 4/5\n",
      "70/70 [==============================] - 1s 9ms/step - loss: 0.4578 - acc: 0.9857\n",
      "Epoch 5/5\n",
      "70/70 [==============================] - 1s 9ms/step - loss: 0.2036 - acc: 1.0000\n"
     ]
    },
    {
     "data": {
      "text/plain": [
       "<keras.callbacks.History at 0x1befd6c3ef0>"
      ]
     },
     "execution_count": 12,
     "metadata": {},
     "output_type": "execute_result"
    }
   ],
   "source": [
    "epochs = 5\n",
    "batch_size = 7\n",
    "model.fit(x_train,ytrain,epochs=epochs,batch_size=batch_size)"
   ]
  },
  {
   "cell_type": "code",
   "execution_count": 13,
   "metadata": {},
   "outputs": [
    {
     "name": "stdout",
     "output_type": "stream",
     "text": [
      "35/35 [==============================] - 0s 10ms/step\n"
     ]
    },
    {
     "data": {
      "text/plain": [
       "[0.08112049251794815, 1.0]"
      ]
     },
     "execution_count": 13,
     "metadata": {},
     "output_type": "execute_result"
    }
   ],
   "source": [
    "model.evaluate(x_test,ytest,batch_size=batch_size)"
   ]
  },
  {
   "cell_type": "code",
   "execution_count": null,
   "metadata": {},
   "outputs": [],
   "source": []
  }
 ],
 "metadata": {
  "kernelspec": {
   "display_name": "Python 3",
   "language": "python",
   "name": "python3"
  },
  "language_info": {
   "codemirror_mode": {
    "name": "ipython",
    "version": 3
   },
   "file_extension": ".py",
   "mimetype": "text/x-python",
   "name": "python",
   "nbconvert_exporter": "python",
   "pygments_lexer": "ipython3",
   "version": "3.6.7"
  }
 },
 "nbformat": 4,
 "nbformat_minor": 2
}
