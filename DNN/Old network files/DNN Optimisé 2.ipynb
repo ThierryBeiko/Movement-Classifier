{
 "cells": [
  {
   "cell_type": "code",
   "execution_count": 65,
   "metadata": {},
   "outputs": [],
   "source": [
    "import tensorflow as tf\n",
    "import numpy as np\n",
    "import pandas as pd\n",
    "from keras.utils import to_categorical\n",
    "from keras.models import Sequential\n",
    "from keras.layers import LSTM,Dense,Dropout\n",
    "from sklearn.preprocessing import MinMaxScaler\n",
    "import matplotlib.pyplot as plt"
   ]
  },
  {
   "cell_type": "code",
   "execution_count": 75,
   "metadata": {},
   "outputs": [
    {
     "name": "stdout",
     "output_type": "stream",
     "text": [
      "(7000, 6) (70, 1) (3500, 6) (35, 1)\n"
     ]
    }
   ],
   "source": [
    "#Lecture des fichiers input (X_train et X_test) et output (y_train et y_train)\n",
    "X_train = pd.read_csv(\"X_train.txt\",header=None)\n",
    "y_train = pd.read_csv(\"y_train.txt\",header=None)\n",
    "X_test = pd.read_csv(\"X_test.txt\",header=None)\n",
    "y_test = pd.read_csv(\"y_test.txt\",header=None)\n",
    "print(X_train.shape,y_train.shape,X_test.shape,y_test.shape)"
   ]
  },
  {
   "cell_type": "code",
   "execution_count": 76,
   "metadata": {},
   "outputs": [
    {
     "name": "stdout",
     "output_type": "stream",
     "text": [
      "(7000, 6) (70, 1) (3500, 6) (35, 1)\n"
     ]
    }
   ],
   "source": [
    "x_train = np.array(X_train)\n",
    "ytrain = np.array(y_train)\n",
    "x_test = np.array(X_test)\n",
    "ytest = np.array(y_test)\n",
    "print(x_train.shape,ytrain.shape,x_test.shape,ytest.shape)"
   ]
  },
  {
   "cell_type": "code",
   "execution_count": 77,
   "metadata": {},
   "outputs": [
    {
     "name": "stdout",
     "output_type": "stream",
     "text": [
      "(70, 100, 6) (70, 7) (35, 100, 6) (35, 7)\n"
     ]
    }
   ],
   "source": [
    "x_train = x_train.reshape((70, 100,6))\n",
    "ytrain = to_categorical(ytrain)\n",
    "x_test = x_test.reshape(35,100,6)\n",
    "ytest = to_categorical(ytest)\n",
    "print(x_train.shape,ytrain.shape,x_test.shape,ytest.shape)"
   ]
  },
  {
   "cell_type": "code",
   "execution_count": 84,
   "metadata": {},
   "outputs": [],
   "source": [
    "model = Sequential()\n",
    "\n",
    "model.add(LSTM(units=70, return_sequences = True, input_shape =(x_train.shape[1],6)))\n",
    "model.add(Dropout(0.596602))\n",
    "model.add(LSTM(units=50))\n",
    "model.add(Dropout(0.2854))\n",
    "\n",
    "model.add(Dense(ytrain.shape[1],activation='softmax'))\n",
    "\n",
    "model.compile(loss='categorical_crossentropy', optimizer='adam', metrics=['accuracy'])      "
   ]
  },
  {
   "cell_type": "code",
   "execution_count": 85,
   "metadata": {},
   "outputs": [
    {
     "name": "stdout",
     "output_type": "stream",
     "text": [
      "Train on 70 samples, validate on 35 samples\n",
      "Epoch 1/20\n",
      "70/70 [==============================] - 7s 102ms/step - loss: 1.9155 - acc: 0.2000 - val_loss: 1.5114 - val_acc: 0.5429\n",
      "Epoch 2/20\n",
      "70/70 [==============================] - 2s 23ms/step - loss: 1.4783 - acc: 0.5857 - val_loss: 1.1304 - val_acc: 0.9429\n",
      "Epoch 3/20\n",
      "70/70 [==============================] - 2s 22ms/step - loss: 1.1757 - acc: 0.8143 - val_loss: 0.8373 - val_acc: 0.9429\n",
      "Epoch 4/20\n",
      "70/70 [==============================] - 2s 22ms/step - loss: 0.8553 - acc: 0.8857 - val_loss: 0.6181 - val_acc: 0.9714\n",
      "Epoch 5/20\n",
      "70/70 [==============================] - 2s 22ms/step - loss: 0.6672 - acc: 0.9143 - val_loss: 0.4381 - val_acc: 0.9714\n",
      "Epoch 6/20\n",
      "70/70 [==============================] - 1s 21ms/step - loss: 0.4395 - acc: 0.9286 - val_loss: 0.3282 - val_acc: 1.0000\n",
      "Epoch 7/20\n",
      "70/70 [==============================] - 1s 21ms/step - loss: 0.3182 - acc: 1.0000 - val_loss: 0.2445 - val_acc: 1.0000\n",
      "Epoch 8/20\n",
      "70/70 [==============================] - 2s 22ms/step - loss: 0.2189 - acc: 1.0000 - val_loss: 0.1707 - val_acc: 1.0000\n",
      "Epoch 9/20\n",
      "70/70 [==============================] - 2s 22ms/step - loss: 0.1718 - acc: 1.0000 - val_loss: 0.1344 - val_acc: 1.0000\n",
      "Epoch 10/20\n",
      "70/70 [==============================] - 2s 23ms/step - loss: 0.1257 - acc: 1.0000 - val_loss: 0.0992 - val_acc: 1.0000\n",
      "Epoch 11/20\n",
      "70/70 [==============================] - 2s 22ms/step - loss: 0.1002 - acc: 1.0000 - val_loss: 0.0784 - val_acc: 1.0000\n",
      "Epoch 12/20\n",
      "70/70 [==============================] - 1s 21ms/step - loss: 0.0761 - acc: 1.0000 - val_loss: 0.0622 - val_acc: 1.0000\n",
      "Epoch 13/20\n",
      "70/70 [==============================] - 2s 23ms/step - loss: 0.0532 - acc: 1.0000 - val_loss: 0.0505 - val_acc: 1.0000\n",
      "Epoch 14/20\n",
      "70/70 [==============================] - 2s 23ms/step - loss: 0.0433 - acc: 1.0000 - val_loss: 0.0432 - val_acc: 1.0000\n",
      "Epoch 15/20\n",
      "70/70 [==============================] - 2s 23ms/step - loss: 0.0450 - acc: 1.0000 - val_loss: 0.0395 - val_acc: 1.0000\n",
      "Epoch 16/20\n",
      "70/70 [==============================] - 2s 23ms/step - loss: 0.0363 - acc: 1.0000 - val_loss: 0.0372 - val_acc: 1.0000\n",
      "Epoch 17/20\n",
      "70/70 [==============================] - 2s 25ms/step - loss: 0.0307 - acc: 1.0000 - val_loss: 0.0353 - val_acc: 1.0000\n",
      "Epoch 18/20\n",
      "70/70 [==============================] - 2s 24ms/step - loss: 0.0270 - acc: 1.0000 - val_loss: 0.0336 - val_acc: 1.0000\n",
      "Epoch 19/20\n",
      "70/70 [==============================] - 1s 21ms/step - loss: 0.0277 - acc: 1.0000 - val_loss: 0.0347 - val_acc: 1.0000\n",
      "Epoch 20/20\n",
      "70/70 [==============================] - 2s 22ms/step - loss: 0.0222 - acc: 1.0000 - val_loss: 0.0319 - val_acc: 1.0000\n"
     ]
    }
   ],
   "source": [
    "epochs = 20\n",
    "batch_size = 7\n",
    "#model.fit(x_train,ytrain,epochs=epochs,batch_size=batch_size)\n",
    "history = model.fit(x_train,ytrain,validation_data = (x_test,ytest),epochs=epochs,batch_size=batch_size)"
   ]
  },
  {
   "cell_type": "code",
   "execution_count": 86,
   "metadata": {},
   "outputs": [
    {
     "name": "stdout",
     "output_type": "stream",
     "text": [
      "dict_keys(['val_loss', 'val_acc', 'loss', 'acc'])\n"
     ]
    }
   ],
   "source": [
    "print(history.history.keys())"
   ]
  },
  {
   "cell_type": "code",
   "execution_count": 87,
   "metadata": {},
   "outputs": [
    {
     "name": "stdout",
     "output_type": "stream",
     "text": [
      "35/35 [==============================] - 0s 4ms/step\n"
     ]
    },
    {
     "data": {
      "text/plain": [
       "[0.031949696317315104, 1.0]"
      ]
     },
     "execution_count": 87,
     "metadata": {},
     "output_type": "execute_result"
    }
   ],
   "source": [
    "model.evaluate(x_test,ytest,batch_size=batch_size)"
   ]
  },
  {
   "cell_type": "code",
   "execution_count": 89,
   "metadata": {},
   "outputs": [
    {
     "data": {
      "image/png": "[encoded data removed]",
      "text/plain": [
       "<Figure size 432x288 with 1 Axes>"
      ]
     },
     "metadata": {
      "needs_background": "light"
     },
     "output_type": "display_data"
    }
   ],
   "source": [
    "# summarize history for accuracy\n",
    "plt.plot(history.history['acc'],'-bo')\n",
    "plt.plot(history.history['val_acc'],'-r*')\n",
    "plt.title('Model Accuracy (bacth size = 7)')\n",
    "plt.ylabel('Accuracy (%)')\n",
    "plt.xlabel('Epoch')\n",
    "plt.legend(['Train', 'Validation'], loc='best')\n",
    "plt.grid(True)\n",
    "fig1 = plt.gcf()\n",
    "fig1.savefig('modelAccuracy.png',dpi=300)\n",
    "plt.show()"
   ]
  },
  {
   "cell_type": "code",
   "execution_count": 90,
   "metadata": {},
   "outputs": [
    {
     "data": {
      "image/png": "[encoded data removed]",
      "text/plain": [
       "<Figure size 432x288 with 1 Axes>"
      ]
     },
     "metadata": {
      "needs_background": "light"
     },
     "output_type": "display_data"
    }
   ],
   "source": [
    "# summarize history for loss\n",
    "plt.plot(history.history['loss'],'-bo')\n",
    "plt.plot(history.history['val_loss'],'-r*')\n",
    "plt.title('Model Loss (batch size = 7)')\n",
    "plt.ylabel('Loss')\n",
    "plt.xlabel('Epoch')\n",
    "plt.legend(['Train', 'Validation'], loc='best')\n",
    "plt.grid(True)\n",
    "fig2 = plt.gcf()\n",
    "fig2.savefig('modelLoss.png',dpi=300)\n",
    "plt.show()"
   ]
  },
  {
   "cell_type": "code",
   "execution_count": null,
   "metadata": {},
   "outputs": [],
   "source": []
  },
  {
   "cell_type": "code",
   "execution_count": null,
   "metadata": {},
   "outputs": [],
   "source": []
  }
 ],
 "metadata": {
  "kernelspec": {
   "display_name": "Python 3",
   "language": "python",
   "name": "python3"
  },
  "language_info": {
   "codemirror_mode": {
    "name": "ipython",
    "version": 3
   },
   "file_extension": ".py",
   "mimetype": "text/x-python",
   "name": "python",
   "nbconvert_exporter": "python",
   "pygments_lexer": "ipython3",
   "version": "3.7.1"
  }
 },
 "nbformat": 4,
 "nbformat_minor": 2
}
