{
 "cells": [
  {
   "cell_type": "code",
   "execution_count": 308,
   "metadata": {},
   "outputs": [
    {
     "name": "stdout",
     "output_type": "stream",
     "text": [
      "2.2.4\n"
     ]
    }
   ],
   "source": [
    "import tensorflow as tf\n",
    "import numpy as np\n",
    "import pandas as pd\n",
    "from keras.utils import to_categorical\n",
    "from keras.models import Sequential\n",
    "from keras.layers import LSTM,Dense,Dropout\n",
    "from sklearn.preprocessing import MinMaxScaler\n",
    "import matplotlib.pyplot as plt\n",
    "from hyperopt import Trials, STATUS_OK, tpe\n",
    "from hyperas import optim\n",
    "from hyperas.distributions import choice, uniform"
   ]
  },
  {
   "cell_type": "code",
   "execution_count": 274,
   "metadata": {},
   "outputs": [
    {
     "name": "stdout",
     "output_type": "stream",
     "text": [
      "(7000, 6) (70, 1) (3500, 6) (35, 1)\n"
     ]
    }
   ],
   "source": [
    "#Lecture des fichiers input (X_train et X_test) et output (y_train et y_train)\n",
    "X_train = pd.read_csv(\"X_train.txt\",header=None)\n",
    "y_train = pd.read_csv(\"y_train.txt\",header=None)\n",
    "X_test = pd.read_csv(\"X_test.txt\",header=None)\n",
    "y_test = pd.read_csv(\"y_test.txt\",header=None)\n",
    "print(X_train.shape,y_train.shape,X_test.shape,y_test.shape)"
   ]
  },
  {
   "cell_type": "code",
   "execution_count": 275,
   "metadata": {},
   "outputs": [
    {
     "name": "stdout",
     "output_type": "stream",
     "text": [
      "(7000, 6) (70, 1) (3500, 6) (35, 1)\n"
     ]
    }
   ],
   "source": [
    "x_train = np.array(X_train)\n",
    "ytrain = np.array(y_train)\n",
    "x_test = np.array(X_test)\n",
    "ytest = np.array(y_test)\n",
    "print(x_train.shape,ytrain.shape,x_test.shape,ytest.shape)"
   ]
  },
  {
   "cell_type": "code",
   "execution_count": 276,
   "metadata": {},
   "outputs": [
    {
     "name": "stdout",
     "output_type": "stream",
     "text": [
      "(70, 100, 6) (70, 7) (35, 100, 6) (35, 7)\n"
     ]
    }
   ],
   "source": [
    "x_train = x_train.reshape((70, 100,6))\n",
    "ytrain = to_categorical(ytrain)\n",
    "x_test = x_test.reshape(35,100,6)\n",
    "ytest = to_categorical(ytest)\n",
    "print(x_train.shape,ytrain.shape,x_test.shape,ytest.shape)"
   ]
  },
  {
   "cell_type": "code",
   "execution_count": 303,
   "metadata": {},
   "outputs": [],
   "source": [
    "model = Sequential()\n",
    "\n",
    "model.add(LSTM(units=100, return_sequences = True, input_shape =(x_train.shape[1],6)))\n",
    "model.add(Dropout(0.5))\n",
    "model.add(LSTM(units=100))\n",
    "model.add(Dropout(0.5))\n",
    "model.add(Dense(100,activation='relu'))\n",
    "model.add(Dropout(0.5))\n",
    "model.add(Dense(ytrain.shape[1],activation='softmax'))\n",
    "\n",
    "model.compile(loss='categorical_crossentropy', optimizer='adam', metrics=['accuracy'])      "
   ]
  },
  {
   "cell_type": "code",
   "execution_count": 306,
   "metadata": {},
   "outputs": [
    {
     "name": "stdout",
     "output_type": "stream",
     "text": [
      "Epoch 1/10\n",
      "70/70 [==============================] - 1s 16ms/step - loss: 0.3623 - acc: 0.9571\n",
      "Epoch 2/10\n",
      "70/70 [==============================] - 1s 15ms/step - loss: 0.2462 - acc: 0.9714\n",
      "Epoch 3/10\n",
      "70/70 [==============================] - 1s 16ms/step - loss: 0.1506 - acc: 0.9857\n",
      "Epoch 4/10\n",
      "70/70 [==============================] - 1s 16ms/step - loss: 0.1457 - acc: 0.9857\n",
      "Epoch 5/10\n",
      "70/70 [==============================] - 1s 16ms/step - loss: 0.0701 - acc: 1.0000\n",
      "Epoch 6/10\n",
      "70/70 [==============================] - 1s 16ms/step - loss: 0.0956 - acc: 0.9857\n",
      "Epoch 7/10\n",
      "70/70 [==============================] - 1s 16ms/step - loss: 0.0654 - acc: 1.0000\n",
      "Epoch 8/10\n",
      "70/70 [==============================] - 1s 16ms/step - loss: 0.0510 - acc: 1.0000\n",
      "Epoch 9/10\n",
      "70/70 [==============================] - 1s 15ms/step - loss: 0.0651 - acc: 1.0000\n",
      "Epoch 10/10\n",
      "70/70 [==============================] - 1s 14ms/step - loss: 0.0443 - acc: 1.0000\n"
     ]
    },
    {
     "data": {
      "text/plain": [
       "<keras.callbacks.History at 0x1f5dc60b438>"
      ]
     },
     "execution_count": 306,
     "metadata": {},
     "output_type": "execute_result"
    }
   ],
   "source": [
    "epochs = 10\n",
    "batch_size = 10\n",
    "model.fit(x_train,ytrain,epochs=epochs,batch_size=batch_size)"
   ]
  },
  {
   "cell_type": "code",
   "execution_count": 307,
   "metadata": {},
   "outputs": [
    {
     "name": "stdout",
     "output_type": "stream",
     "text": [
      "35/35 [==============================] - 0s 8ms/step\n"
     ]
    },
    {
     "data": {
      "text/plain": [
       "[0.0028012938065720455, 1.0]"
      ]
     },
     "execution_count": 307,
     "metadata": {},
     "output_type": "execute_result"
    }
   ],
   "source": [
    "model.evaluate(x_test,ytest,batch_size=batch_size)"
   ]
  },
  {
   "cell_type": "code",
   "execution_count": null,
   "metadata": {},
   "outputs": [],
   "source": []
  },
  {
   "cell_type": "code",
   "execution_count": null,
   "metadata": {},
   "outputs": [],
   "source": []
  }
 ],
 "metadata": {
  "kernelspec": {
   "display_name": "Python 3",
   "language": "python",
   "name": "python3"
  },
  "language_info": {
   "codemirror_mode": {
    "name": "ipython",
    "version": 3
   },
   "file_extension": ".py",
   "mimetype": "text/x-python",
   "name": "python",
   "nbconvert_exporter": "python",
   "pygments_lexer": "ipython3",
   "version": "3.6.7"
  }
 },
 "nbformat": 4,
 "nbformat_minor": 2
}
